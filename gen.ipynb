{
 "cells": [
  {
   "cell_type": "code",
   "execution_count": 5,
   "metadata": {},
   "outputs": [
    {
     "name": "stderr",
     "output_type": "stream",
     "text": [
      "  error: subprocess-exited-with-error\n",
      "  \n",
      "  × python setup.py egg_info did not run successfully.\n",
      "  │ exit code: 1\n",
      "  ╰─> [21 lines of output]\n",
      "      \n",
      "      \n",
      "      torch.__version__  = 2.2.0+cu118\n",
      "      \n",
      "      \n",
      "      Traceback (most recent call last):\n",
      "        File \"<string>\", line 2, in <module>\n",
      "        File \"<pip-setuptools-caller>\", line 34, in <module>\n",
      "        File \"C:\\Users\\Abhyudya Bhatnagar\\AppData\\Local\\Temp\\pip-install-4utncbqt\\causal-conv1d_b10f09990a4144829c365983f1b99853\\setup.py\", line 97, in <module>\n",
      "          _, bare_metal_version = get_cuda_bare_metal_version(CUDA_HOME)\n",
      "        File \"C:\\Users\\Abhyudya Bhatnagar\\AppData\\Local\\Temp\\pip-install-4utncbqt\\causal-conv1d_b10f09990a4144829c365983f1b99853\\setup.py\", line 59, in get_cuda_bare_metal_version\n",
      "          raw_output = subprocess.check_output(\n",
      "        File \"C:\\Users\\Abhyudya Bhatnagar\\AppData\\Local\\Programs\\Python\\Python310\\lib\\subprocess.py\", line 421, in check_output\n",
      "          return run(*popenargs, stdout=PIPE, timeout=timeout, check=True,\n",
      "        File \"C:\\Users\\Abhyudya Bhatnagar\\AppData\\Local\\Programs\\Python\\Python310\\lib\\subprocess.py\", line 503, in run\n",
      "          with Popen(*popenargs, **kwargs) as process:\n",
      "        File \"C:\\Users\\Abhyudya Bhatnagar\\AppData\\Local\\Programs\\Python\\Python310\\lib\\subprocess.py\", line 971, in __init__\n",
      "          self._execute_child(args, executable, preexec_fn, close_fds,\n",
      "        File \"C:\\Users\\Abhyudya Bhatnagar\\AppData\\Local\\Programs\\Python\\Python310\\lib\\subprocess.py\", line 1440, in _execute_child\n",
      "          hp, ht, pid, tid = _winapi.CreateProcess(executable, args,\n",
      "      FileNotFoundError: [WinError 2] The system cannot find the file specified\n",
      "      [end of output]\n",
      "  \n",
      "  note: This error originates from a subprocess, and is likely not a problem with pip.\n",
      "error: metadata-generation-failed\n",
      "\n",
      "× Encountered error while generating package metadata.\n",
      "╰─> See above for output.\n",
      "\n",
      "note: This is an issue with the package mentioned above, not pip.\n",
      "hint: See above for details.\n"
     ]
    },
    {
     "name": "stdout",
     "output_type": "stream",
     "text": [
      "Collecting mamba-ssm\n",
      "  Downloading mamba_ssm-1.2.0.post1.tar.gz (34 kB)\n",
      "  Preparing metadata (setup.py): started\n",
      "  Preparing metadata (setup.py): finished with status 'error'\n"
     ]
    },
    {
     "name": "stderr",
     "output_type": "stream",
     "text": [
      "  error: subprocess-exited-with-error\n",
      "  \n",
      "  × python setup.py egg_info did not run successfully.\n",
      "  │ exit code: 1\n",
      "  ╰─> [21 lines of output]\n",
      "      \n",
      "      \n",
      "      torch.__version__  = 2.2.0+cu118\n",
      "      \n",
      "      \n",
      "      Traceback (most recent call last):\n",
      "        File \"<string>\", line 2, in <module>\n",
      "        File \"<pip-setuptools-caller>\", line 34, in <module>\n",
      "        File \"C:\\Users\\Abhyudya Bhatnagar\\AppData\\Local\\Temp\\pip-install-atapih3o\\mamba-ssm_d7bdb92367254a72841ba8d1f6d495ac\\setup.py\", line 101, in <module>\n",
      "          _, bare_metal_version = get_cuda_bare_metal_version(CUDA_HOME)\n",
      "        File \"C:\\Users\\Abhyudya Bhatnagar\\AppData\\Local\\Temp\\pip-install-atapih3o\\mamba-ssm_d7bdb92367254a72841ba8d1f6d495ac\\setup.py\", line 63, in get_cuda_bare_metal_version\n",
      "          raw_output = subprocess.check_output(\n",
      "        File \"C:\\Users\\Abhyudya Bhatnagar\\AppData\\Local\\Programs\\Python\\Python310\\lib\\subprocess.py\", line 421, in check_output\n",
      "          return run(*popenargs, stdout=PIPE, timeout=timeout, check=True,\n",
      "        File \"C:\\Users\\Abhyudya Bhatnagar\\AppData\\Local\\Programs\\Python\\Python310\\lib\\subprocess.py\", line 503, in run\n",
      "          with Popen(*popenargs, **kwargs) as process:\n",
      "        File \"C:\\Users\\Abhyudya Bhatnagar\\AppData\\Local\\Programs\\Python\\Python310\\lib\\subprocess.py\", line 971, in __init__\n",
      "          self._execute_child(args, executable, preexec_fn, close_fds,\n",
      "        File \"C:\\Users\\Abhyudya Bhatnagar\\AppData\\Local\\Programs\\Python\\Python310\\lib\\subprocess.py\", line 1440, in _execute_child\n",
      "          hp, ht, pid, tid = _winapi.CreateProcess(executable, args,\n",
      "      FileNotFoundError: [WinError 2] The system cannot find the file specified\n",
      "      [end of output]\n",
      "  \n",
      "  note: This error originates from a subprocess, and is likely not a problem with pip.\n",
      "error: metadata-generation-failed\n",
      "\n",
      "× Encountered error while generating package metadata.\n",
      "╰─> See above for output.\n",
      "\n",
      "note: This is an issue with the package mentioned above, not pip.\n",
      "hint: See above for details.\n"
     ]
    }
   ],
   "source": [
    "!pip install causal-conv1d>=1.2.0\n",
    "!pip install mamba-ssm\n"
   ]
  },
  {
   "cell_type": "code",
   "execution_count": 4,
   "metadata": {},
   "outputs": [
    {
     "ename": "ImportError",
     "evalue": "cannot import name 'MambaConfig' from 'transformers' (c:\\Users\\Abhyudya Bhatnagar\\AppData\\Local\\Programs\\Python\\Python310\\lib\\site-packages\\transformers\\__init__.py)",
     "output_type": "error",
     "traceback": [
      "\u001b[1;31m---------------------------------------------------------------------------\u001b[0m",
      "\u001b[1;31mImportError\u001b[0m                               Traceback (most recent call last)",
      "Cell \u001b[1;32mIn[4], line 1\u001b[0m\n\u001b[1;32m----> 1\u001b[0m \u001b[38;5;28;01mfrom\u001b[39;00m \u001b[38;5;21;01mtransformers\u001b[39;00m \u001b[38;5;28;01mimport\u001b[39;00m MambaConfig, MambaForCausalLM, AutoTokenizer\n\u001b[0;32m      2\u001b[0m \u001b[38;5;28;01mimport\u001b[39;00m \u001b[38;5;21;01mtorch\u001b[39;00m\n\u001b[0;32m      4\u001b[0m tokenizer \u001b[38;5;241m=\u001b[39m AutoTokenizer\u001b[38;5;241m.\u001b[39mfrom_pretrained(\u001b[38;5;124m\"\u001b[39m\u001b[38;5;124mstate-spaces/mamba-130m-hf\u001b[39m\u001b[38;5;124m\"\u001b[39m)\n",
      "\u001b[1;31mImportError\u001b[0m: cannot import name 'MambaConfig' from 'transformers' (c:\\Users\\Abhyudya Bhatnagar\\AppData\\Local\\Programs\\Python\\Python310\\lib\\site-packages\\transformers\\__init__.py)"
     ]
    }
   ],
   "source": [
    "from transformers import MambaConfig, MambaForCausalLM, AutoTokenizer\n",
    "import torch\n",
    "\n",
    "tokenizer = AutoTokenizer.from_pretrained(\"state-spaces/mamba-130m-hf\")\n",
    "model = MambaForCausalLM.from_pretrained(\"state-spaces/mamba-130m-hf\")\n",
    "input_ids = tokenizer(\"Hey how are you doing?\", return_tensors=\"pt\")[\"input_ids\"]\n",
    "\n",
    "out = model.generate(input_ids, max_new_tokens=10)\n",
    "print(tokenizer.batch_decode(out))\n"
   ]
  },
  {
   "cell_type": "code",
   "execution_count": null,
   "metadata": {},
   "outputs": [],
   "source": []
  }
 ],
 "metadata": {
  "kernelspec": {
   "display_name": "Python 3",
   "language": "python",
   "name": "python3"
  },
  "language_info": {
   "codemirror_mode": {
    "name": "ipython",
    "version": 3
   },
   "file_extension": ".py",
   "mimetype": "text/x-python",
   "name": "python",
   "nbconvert_exporter": "python",
   "pygments_lexer": "ipython3",
   "version": "3.10.9"
  }
 },
 "nbformat": 4,
 "nbformat_minor": 2
}
